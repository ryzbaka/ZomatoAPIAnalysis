{
 "cells": [
  {
   "cell_type": "markdown",
   "metadata": {},
   "source": [
    "# Data Analysis using Zomato API by Hamza Ali\n",
    "Zomato APIs give you access to the freshest and most exhaustive information for over 1.5 million restaurants across 10,000 cities globally."
   ]
  },
  {
   "cell_type": "markdown",
   "metadata": {},
   "source": [
    "## My Motivation for using Zomato API\n",
    "By Collecting the data using Zomato API one can recommend restaurants on the basis of user’s affinity to specific cuisines, establishment types, locations, and price bands.\n",
    "We can find out whether restaurant support online reservation or not.\n",
    "We can find what is the most popular and/ or exclusive/new at a given location & time."
   ]
  },
  {
   "cell_type": "markdown",
   "metadata": {},
   "source": [
    "https://developers.zomato.com/api"
   ]
  },
  {
   "cell_type": "markdown",
   "metadata": {},
   "source": [
    "API Key: 27299ca04f97031673347f76514c6678"
   ]
  },
  {
   "cell_type": "markdown",
   "metadata": {},
   "source": [
    "### “Yesterday I really wanted tacos. Today, I’m eating tacos. Follow your dreams.”"
   ]
  },
  {
   "cell_type": "markdown",
   "metadata": {},
   "source": [
    "Mexican cuisine began about 9,000 years ago, when agricultural communities such as the Maya formed, domesticating maize, creating the standard process of corn nixtamalization, and establishing their foodways.\n",
    "I am a huge fan of ‘Mexican’ cuisine. Now using the Zomato API I want to analyse the best restaurant serving Mexican Cuisine, their locations, and cost for two, etc."
   ]
  },
  {
   "cell_type": "markdown",
   "metadata": {},
   "source": [
    "The city whose restaurants I'll be studying is Delhi.\n",
    "\n",
    "Zomato stores cities by an id called city_id so i'll need to obtain that value for Delhi."
   ]
  },
  {
   "cell_type": "code",
   "execution_count": 29,
   "metadata": {},
   "outputs": [],
   "source": [
    "userkey='27299ca04f97031673347f76514c6678'"
   ]
  },
  {
   "cell_type": "code",
   "execution_count": 30,
   "metadata": {},
   "outputs": [
    {
     "data": {
      "text/plain": [
       "1"
      ]
     },
     "execution_count": 30,
     "metadata": {},
     "output_type": "execute_result"
    }
   ],
   "source": [
    "import requests\n",
    "import json\n",
    "\n",
    "header = {'user-key':userkey}\n",
    "response=requests.get('https://developers.zomato.com/api/v2.1/cities',headers=header,params={'q':'Delhi'})\n",
    "data=json.loads(response.content)\n",
    "data['location_suggestions'][0]['id']"
   ]
  },
  {
   "cell_type": "markdown",
   "metadata": {},
   "source": [
    "Since I'm focusing on Mexican Cuisine I'll need its cuisine id too."
   ]
  },
  {
   "cell_type": "code",
   "execution_count": 31,
   "metadata": {},
   "outputs": [
    {
     "name": "stdout",
     "output_type": "stream",
     "text": [
      "73\n"
     ]
    }
   ],
   "source": [
    "response=requests.get('https://developers.zomato.com/api/v2.1/cuisines',headers=header,params={'city_id':'12'})\n",
    "cuisineids=json.loads(response.content)\n",
    "for i in cuisineids['cuisines']:\n",
    "    if i['cuisine']['cuisine_name']=='Mexican':\n",
    "        print(i['cuisine']['cuisine_id'])"
   ]
  },
  {
   "cell_type": "markdown",
   "metadata": {},
   "source": [
    "So far we know,"
   ]
  },
  {
   "cell_type": "markdown",
   "metadata": {},
   "source": [
    "#### Delhi's City ID: 1"
   ]
  },
  {
   "cell_type": "markdown",
   "metadata": {},
   "source": [
    "#### Mexican Cuisine ID: 73"
   ]
  },
  {
   "cell_type": "markdown",
   "metadata": {},
   "source": [
    "Delhi is a big city so lets stick to analyzing the restaurants in its frenetic business and financial hub, Connaught Place."
   ]
  },
  {
   "cell_type": "markdown",
   "metadata": {},
   "source": [
    "Zomato has places in a city stored in a Geocode model with identifying attributes like 'entity-type', 'entity-id','latitude','longitude',etc.\n",
    "\n",
    "So let's get those values using Zomato's API."
   ]
  },
  {
   "cell_type": "code",
   "execution_count": 89,
   "metadata": {},
   "outputs": [],
   "source": [
    "response=requests.get('https://developers.zomato.com/api/v2.1/geocode',headers=header,params={'lat':'28.6304','lon':'77.2177'})"
   ]
  },
  {
   "cell_type": "code",
   "execution_count": 90,
   "metadata": {},
   "outputs": [
    {
     "data": {
      "text/plain": [
       "200"
      ]
     },
     "execution_count": 90,
     "metadata": {},
     "output_type": "execute_result"
    }
   ],
   "source": [
    "response.status_code"
   ]
  },
  {
   "cell_type": "code",
   "execution_count": 91,
   "metadata": {},
   "outputs": [],
   "source": [
    "data=json.loads(response.content)"
   ]
  },
  {
   "cell_type": "markdown",
   "metadata": {},
   "source": [
    "### Connaught Place Data:-"
   ]
  },
  {
   "cell_type": "code",
   "execution_count": 92,
   "metadata": {},
   "outputs": [
    {
     "data": {
      "text/plain": [
       "{'location': {'entity_type': 'subzone',\n",
       "  'entity_id': 104,\n",
       "  'title': 'Connaught Place',\n",
       "  'latitude': '28.6328320000',\n",
       "  'longitude': '77.2196880000',\n",
       "  'city_id': 1,\n",
       "  'city_name': 'Delhi NCR',\n",
       "  'country_id': 1,\n",
       "  'country_name': 'India'},\n",
       " 'popularity': {'popularity': '5.00',\n",
       "  'nightlife_index': '5.00',\n",
       "  'nearby_res': ['7713',\n",
       "   '18625812',\n",
       "   '18382360',\n",
       "   '18418277',\n",
       "   '18537536',\n",
       "   '1127',\n",
       "   '18246991',\n",
       "   '18238278',\n",
       "   '306497'],\n",
       "  'top_cuisines': ['North Indian',\n",
       "   'Chinese',\n",
       "   'Fast Food',\n",
       "   'Continental',\n",
       "   'Italian'],\n",
       "  'popularity_res': '100',\n",
       "  'nightlife_res': '10',\n",
       "  'subzone': 'Connaught Place',\n",
       "  'subzone_id': 104,\n",
       "  'city': 'Delhi NCR'},\n",
       " 'link': 'https://www.zomato.com/ncr/connaught-place-delhi-restaurants',\n",
       " 'nearby_restaurants': [{'restaurant': {'R': {'res_id': 7713},\n",
       "    'apikey': '27299ca04f97031673347f76514c6678',\n",
       "    'id': '7713',\n",
       "    'name': 'Ardor 2.1',\n",
       "    'url': 'https://www.zomato.com/ncr/ardor-2-1-connaught-place-new-delhi?utm_source=api_basic_user&utm_medium=api&utm_campaign=v2.1',\n",
       "    'location': {'address': 'N-55/56 & 88/89, Outer Circle, Connaught Place, New Delhi',\n",
       "     'locality': 'Connaught Place',\n",
       "     'city': 'New Delhi',\n",
       "     'city_id': 1,\n",
       "     'latitude': '28.6302083528',\n",
       "     'longitude': '77.2195640579',\n",
       "     'zipcode': '0',\n",
       "     'country_id': 1,\n",
       "     'locality_verbose': 'Connaught Place, New Delhi'},\n",
       "    'switch_to_order_menu': 0,\n",
       "    'cuisines': 'North Indian, Chinese, Continental, Italian',\n",
       "    'average_cost_for_two': 1800,\n",
       "    'price_range': 3,\n",
       "    'currency': 'Rs.',\n",
       "    'offers': [],\n",
       "    'zomato_events': [{'event': {'event_id': 338812,\n",
       "       'friendly_start_date': '13 April',\n",
       "       'friendly_end_date': '31 May',\n",
       "       'friendly_timing_str': 'Saturday, 13th April - Friday, 31st May',\n",
       "       'start_date': '2019-04-13',\n",
       "       'end_date': '2019-05-31',\n",
       "       'end_time': '00:00:00',\n",
       "       'start_time': '12:00:00',\n",
       "       'is_active': 1,\n",
       "       'date_added': '2019-04-13 11:49:44',\n",
       "       'photos': [{'photo': {'url': 'https://b.zmtcdn.com/data/zomato_events/photos/e89/7ae9850296da80bd477b18dcb6f61e89_1555136479.png',\n",
       "          'thumb_url': 'https://b.zmtcdn.com/data/zomato_events/photos/e89/7ae9850296da80bd477b18dcb6f61e89_1555136479.png?fit=around%7C100%3A100&crop=100%3A100%3B%2A%2C%2A',\n",
       "          'order': 0,\n",
       "          'md5sum': '7ae9850296da80bd477b18dcb6f61e89',\n",
       "          'id': 456725,\n",
       "          'photo_id': 456725,\n",
       "          'uuid': 1555136474907459,\n",
       "          'type': 'NORMAL'}},\n",
       "        {'photo': {'url': 'https://b.zmtcdn.com/data/zomato_events/photos/1f1/b01a9ff2b12370f3d9c99ed164a571f1_1556006144.jpg',\n",
       "          'thumb_url': 'https://b.zmtcdn.com/data/zomato_events/photos/1f1/b01a9ff2b12370f3d9c99ed164a571f1_1556006144.jpg?fit=around%7C100%3A100&crop=100%3A100%3B%2A%2C%2A',\n",
       "          'order': 1,\n",
       "          'md5sum': 'b01a9ff2b12370f3d9c99ed164a571f1',\n",
       "          'id': 461506,\n",
       "          'photo_id': 461506,\n",
       "          'uuid': 6140394941,\n",
       "          'type': 'FEATURED'}}],\n",
       "       'restaurants': [],\n",
       "       'is_valid': 1,\n",
       "       'share_url': 'http://www.zoma.to/r/0',\n",
       "       'show_share_url': 0,\n",
       "       'title': 'UNITED INDIA THALI ( ELECTION SPECIAL )',\n",
       "       'description': 'Availability :- Lunch Time - 12 PM-5 PM, Dinner 8 PM-12 AM\\n\\n\\nArdor 2.1 in CP recently unveiled the First Look of it\\'s new Election Special Thali which consists of 28 cuisines from 28 states of India on a Single Plate, and also serving \" Chowkidaar Paranthas\" as the 29th item in this Thali and is being launched officially to General Public from the date of Start of the First Round of election , I.e. 11th April.\\nThis is ARDOR 2.1\\'s Second Revolutionary Product after the 56 Inch Khali Bali Baahubali Thali.\\nThe owner, Mr Suveett Kalra mentioned that on the specific dates of the Elections in a particular state , that state\\'s items will be given on a complimentary refills manner to all Guests as a Mark of Respect to The Institution called Elections. For Example on 12th May, Delhi and UP are witnessing Elections so on 12th May the Delhi and UP Cuisine refills will be Free for all Guests. \\nVeg Thali - Rs 1999 plus Taxes \\nNon veg Thali - Rs 2299 plus Taxes',\n",
       "       'display_time': '12:00 pm - 12:00 am',\n",
       "       'display_date': '13 April - 31 May',\n",
       "       'is_end_time_set': 1,\n",
       "       'disclaimer': 'Restaurants are solely responsible for the service; availability and quality of the events including all or any cancellations/ modifications/ complaints.',\n",
       "       'event_category': 1,\n",
       "       'event_category_name': '',\n",
       "       'book_link': '',\n",
       "       'types': [{'name': 'Promos', 'color': '#F96C6A'}],\n",
       "       'share_data': {'should_show': 0}}},\n",
       "     {'event': {'event_id': 263530,\n",
       "       'friendly_start_date': '01 May',\n",
       "       'friendly_end_date': '31 May',\n",
       "       'friendly_timing_str': 'Wednesday, 1st May - Friday, 31st May',\n",
       "       'start_date': '2019-05-01',\n",
       "       'end_date': '2019-05-31',\n",
       "       'end_time': '00:00:00',\n",
       "       'start_time': '12:00:00',\n",
       "       'is_active': 1,\n",
       "       'date_added': '2018-10-12 19:56:21',\n",
       "       'photos': [{'photo': {'url': 'https://b.zmtcdn.com/data/zomato_events/photos/b8f/42fe7c668abb3a49c15ccc17030bfb8f_1552221841.jpg',\n",
       "          'thumb_url': 'https://b.zmtcdn.com/data/zomato_events/photos/b8f/42fe7c668abb3a49c15ccc17030bfb8f_1552221841.jpg?fit=around%7C100%3A100&crop=100%3A100%3B%2A%2C%2A',\n",
       "          'order': 0,\n",
       "          'md5sum': '42fe7c668abb3a49c15ccc17030bfb8f',\n",
       "          'id': 437095,\n",
       "          'photo_id': 437095,\n",
       "          'uuid': 21836771337,\n",
       "          'type': 'FEATURED'}}],\n",
       "       'restaurants': [],\n",
       "       'is_valid': 1,\n",
       "       'share_url': 'http://www.zoma.to/r/0',\n",
       "       'show_share_url': 0,\n",
       "       'title': 'Modi Ji 56\" Khali Bali Baahubali Thali',\n",
       "       'description': \"Hello Folks \\n\\nINFOS REGARDING INDIA'S LARGEST THALI (WEIGHT 12 KGS IN GROSS WEIGHT AND 8.2 KGS IN NET WEIGHT)\\n\\n\\n\\nModi ji 56 inch Khali Bali Baahubali thali \\nLUNCH RATES \\n@1999 plus taxes Veg\\n@2299 plus taxes Non veg \\n\\nTimings \\nMon- Sunday 12 -5 pm \\n\\n\\nModi ji 56 inch Khali Bali Baahubali thali \\nDINNER RATES\\n\\n@2299 plus taxes veg \\n@2599 plus taxes Non veg \\nSunday - Thursday \\n8 pm -12 am \\n\\nFri- Saturday\\nThe above Thali is not available after 5 pm.\\n\\nRefill Policy \\nSo Basically this thali is  for 4 people @1999 plus taxes Veg and 2299 plus taxes Non veg. \\n\\nAbove 4 pax is chargeable linear proportionately @500 plus taxes veg and 575 plus taxes non Veg for the 5th or the 6th person for Lunch and 575 plus taxes for veg and 650 plus taxes for Non Veg for the 5th and 6th person for Dinner and so on and Unlimited Refills are provided for Rice , Breads and Curries ( Desserts and Starters / Tikkas and Liquid Items will be extra chargeable on Refills ) \\n\\nIndia's largest Thali Modi ji ki 56 inch Khali Bali thali has now become even Larger and is now Called Modi ji ki 56 inch Khali Bali BAAHUBALI Thali \\n \\n\\nRESERVATIONS on Weekends and Public Holidays is Highly recommended.\\n\\nRSVP :- 011-45152266/67/68\",\n",
       "       'display_time': '12:00 pm - 12:00 am',\n",
       "       'display_date': '01 May - 31 May',\n",
       "       'is_end_time_set': 1,\n",
       "       'disclaimer': 'Restaurants are solely responsible for the service; availability and quality of the events including all or any cancellations/ modifications/ complaints.',\n",
       "       'event_category': 0,\n",
       "       'event_category_name': '',\n",
       "       'book_link': '',\n",
       "       'types': [{'name': 'Special Menu', 'color': '#F96C6A'}],\n",
       "       'share_data': {'should_show': 0}}}],\n",
       "    'opentable_support': 0,\n",
       "    'is_zomato_book_res': 0,\n",
       "    'mezzo_provider': 'OTHER',\n",
       "    'is_book_form_web_view': 0,\n",
       "    'book_form_web_view_url': '',\n",
       "    'book_again_url': '',\n",
       "    'thumb': 'https://b.zmtcdn.com/data/pictures/3/7713/36f1115d9df99648ead246ea2d894d3d.jpg?fit=around%7C200%3A200&crop=200%3A200%3B%2A%2C%2A',\n",
       "    'user_rating': {'aggregate_rating': '4.3',\n",
       "     'rating_text': 'Very Good',\n",
       "     'rating_color': '5BA829',\n",
       "     'votes': '3238'},\n",
       "    'photos_url': 'https://www.zomato.com/ncr/ardor-2-1-connaught-place-new-delhi/photos?utm_source=api_basic_user&utm_medium=api&utm_campaign=v2.1#tabtop',\n",
       "    'menu_url': 'https://www.zomato.com/ncr/ardor-2-1-connaught-place-new-delhi/menu?utm_source=api_basic_user&utm_medium=api&utm_campaign=v2.1&openSwipeBox=menu&showMinimal=1#tabtop',\n",
       "    'featured_image': 'https://b.zmtcdn.com/data/pictures/3/7713/36f1115d9df99648ead246ea2d894d3d.jpg',\n",
       "    'medio_provider': 1,\n",
       "    'has_online_delivery': 1,\n",
       "    'is_delivering_now': 0,\n",
       "    'include_bogo_offers': True,\n",
       "    'deeplink': 'zomato://restaurant/7713',\n",
       "    'is_table_reservation_supported': 1,\n",
       "    'has_table_booking': 0,\n",
       "    'events_url': 'https://www.zomato.com/ncr/ardor-2-1-connaught-place-new-delhi/events#tabtop?utm_source=api_basic_user&utm_medium=api&utm_campaign=v2.1'}},\n",
       "  {'restaurant': {'R': {'res_id': 18625812},\n",
       "    'apikey': '27299ca04f97031673347f76514c6678',\n",
       "    'id': '18625812',\n",
       "    'name': 'Detroit',\n",
       "    'url': 'https://www.zomato.com/ncr/detroit-connaught-place-new-delhi?utm_source=api_basic_user&utm_medium=api&utm_campaign=v2.1',\n",
       "    'location': {'address': 'F40, 2nd Floor, Inner Circle, \\nConnaught Place, New Delhi',\n",
       "     'locality': 'Connaught Place',\n",
       "     'city': 'New Delhi',\n",
       "     'city_id': 1,\n",
       "     'latitude': '28.6313569294',\n",
       "     'longitude': '77.2202507034',\n",
       "     'zipcode': '',\n",
       "     'country_id': 1,\n",
       "     'locality_verbose': 'Connaught Place, New Delhi'},\n",
       "    'switch_to_order_menu': 0,\n",
       "    'cuisines': 'Bar Food, Mexican, Italian',\n",
       "    'average_cost_for_two': 1500,\n",
       "    'price_range': 3,\n",
       "    'currency': 'Rs.',\n",
       "    'offers': [],\n",
       "    'opentable_support': 0,\n",
       "    'is_zomato_book_res': 0,\n",
       "    'mezzo_provider': 'OTHER',\n",
       "    'is_book_form_web_view': 0,\n",
       "    'book_form_web_view_url': '',\n",
       "    'book_again_url': '',\n",
       "    'thumb': 'https://b.zmtcdn.com/data/pictures/2/18625812/e096c365a1d18caca1d3844f15c714af.png?fit=around%7C200%3A200&crop=200%3A200%3B%2A%2C%2A',\n",
       "    'user_rating': {'aggregate_rating': '4.8',\n",
       "     'rating_text': 'Excellent',\n",
       "     'rating_color': '3F7E00',\n",
       "     'votes': '1028'},\n",
       "    'photos_url': 'https://www.zomato.com/ncr/detroit-connaught-place-new-delhi/photos?utm_source=api_basic_user&utm_medium=api&utm_campaign=v2.1#tabtop',\n",
       "    'menu_url': 'https://www.zomato.com/ncr/detroit-connaught-place-new-delhi/menu?utm_source=api_basic_user&utm_medium=api&utm_campaign=v2.1&openSwipeBox=menu&showMinimal=1#tabtop',\n",
       "    'featured_image': 'https://b.zmtcdn.com/data/pictures/2/18625812/e096c365a1d18caca1d3844f15c714af.png',\n",
       "    'medio_provider': 1,\n",
       "    'has_online_delivery': 0,\n",
       "    'is_delivering_now': 0,\n",
       "    'include_bogo_offers': True,\n",
       "    'deeplink': 'zomato://restaurant/18625812',\n",
       "    'is_table_reservation_supported': 1,\n",
       "    'has_table_booking': 0,\n",
       "    'events_url': 'https://www.zomato.com/ncr/detroit-connaught-place-new-delhi/events#tabtop?utm_source=api_basic_user&utm_medium=api&utm_campaign=v2.1'}},\n",
       "  {'restaurant': {'R': {'res_id': 18382360},\n",
       "    'apikey': '27299ca04f97031673347f76514c6678',\n",
       "    'id': '18382360',\n",
       "    'name': 'Local',\n",
       "    'url': 'https://www.zomato.com/ncr/local-connaught-place-new-delhi?utm_source=api_basic_user&utm_medium=api&utm_campaign=v2.1',\n",
       "    'location': {'address': '11, KG Marg, Scindia House, Connaught Place, New Delhi',\n",
       "     'locality': 'Connaught Place',\n",
       "     'city': 'New Delhi',\n",
       "     'city_id': 1,\n",
       "     'latitude': '28.6299140703',\n",
       "     'longitude': '77.2211713716',\n",
       "     'zipcode': '110001',\n",
       "     'country_id': 1,\n",
       "     'locality_verbose': 'Connaught Place, New Delhi'},\n",
       "    'switch_to_order_menu': 0,\n",
       "    'cuisines': 'North Indian, Continental, Momos',\n",
       "    'average_cost_for_two': 1600,\n",
       "    'price_range': 3,\n",
       "    'currency': 'Rs.',\n",
       "    'offers': [],\n",
       "    'zomato_events': [{'event': {'event_id': 352296,\n",
       "       'friendly_start_date': '19 May',\n",
       "       'friendly_end_date': '19 May',\n",
       "       'friendly_timing_str': 'Sunday, 19th May',\n",
       "       'start_date': '2019-05-19',\n",
       "       'end_date': '2019-05-19',\n",
       "       'end_time': '23:55:00',\n",
       "       'start_time': '21:00:00',\n",
       "       'is_active': 1,\n",
       "       'date_added': '2019-05-17 19:24:02',\n",
       "       'photos': [{'photo': {'url': 'https://b.zmtcdn.com/data/zomato_events/photos/b5b/3a9959d56fcec0fef31143df92754b5b_1558101263.jpg',\n",
       "          'thumb_url': 'https://b.zmtcdn.com/data/zomato_events/photos/b5b/3a9959d56fcec0fef31143df92754b5b_1558101263.jpg?fit=around%7C100%3A100&crop=100%3A100%3B%2A%2C%2A',\n",
       "          'order': 0,\n",
       "          'md5sum': '3a9959d56fcec0fef31143df92754b5b',\n",
       "          'id': 475465,\n",
       "          'photo_id': 475465,\n",
       "          'uuid': 1558101250636694,\n",
       "          'type': 'NORMAL'}}],\n",
       "       'restaurants': [],\n",
       "       'is_valid': 1,\n",
       "       'share_url': 'http://www.zoma.to/r/0',\n",
       "       'show_share_url': 0,\n",
       "       'title': 'Family Sunday',\n",
       "       'description': 'Hold your Sunday party plans and spend some time with your family at Local in Family Sunday where exciting offers are waiting for you and your loved ones. Come this Sunday and make some souvenirs. \\n\\nFor Reservation:- 9599553145',\n",
       "       'display_time': '09:00 pm - 11:55 pm',\n",
       "       'display_date': '19 May',\n",
       "       'is_end_time_set': 1,\n",
       "       'disclaimer': 'Restaurants are solely responsible for the service; availability and quality of the events including all or any cancellations/ modifications/ complaints.',\n",
       "       'event_category': 0,\n",
       "       'event_category_name': '',\n",
       "       'book_link': '',\n",
       "       'types': [],\n",
       "       'share_data': {'should_show': 0}}}],\n",
       "    'opentable_support': 0,\n",
       "    'is_zomato_book_res': 0,\n",
       "    'mezzo_provider': 'OTHER',\n",
       "    'is_book_form_web_view': 0,\n",
       "    'book_form_web_view_url': '',\n",
       "    'book_again_url': '',\n",
       "    'thumb': 'https://b.zmtcdn.com/data/pictures/0/18382360/e573a272f5e7b1d7b40a5eb6da62f562.jpg?fit=around%7C200%3A200&crop=200%3A200%3B%2A%2C%2A',\n",
       "    'user_rating': {'aggregate_rating': '4.2',\n",
       "     'rating_text': 'Very Good',\n",
       "     'rating_color': '5BA829',\n",
       "     'votes': '5853'},\n",
       "    'photos_url': 'https://www.zomato.com/ncr/local-connaught-place-new-delhi/photos?utm_source=api_basic_user&utm_medium=api&utm_campaign=v2.1#tabtop',\n",
       "    'menu_url': 'https://www.zomato.com/ncr/local-connaught-place-new-delhi/menu?utm_source=api_basic_user&utm_medium=api&utm_campaign=v2.1&openSwipeBox=menu&showMinimal=1#tabtop',\n",
       "    'featured_image': 'https://b.zmtcdn.com/data/pictures/0/18382360/e573a272f5e7b1d7b40a5eb6da62f562.jpg',\n",
       "    'medio_provider': 1,\n",
       "    'has_online_delivery': 0,\n",
       "    'is_delivering_now': 0,\n",
       "    'include_bogo_offers': True,\n",
       "    'deeplink': 'zomato://restaurant/18382360',\n",
       "    'is_table_reservation_supported': 1,\n",
       "    'has_table_booking': 0,\n",
       "    'events_url': 'https://www.zomato.com/ncr/local-connaught-place-new-delhi/events#tabtop?utm_source=api_basic_user&utm_medium=api&utm_campaign=v2.1'}},\n",
       "  {'restaurant': {'R': {'res_id': 18418277},\n",
       "    'apikey': '27299ca04f97031673347f76514c6678',\n",
       "    'id': '18418277',\n",
       "    'name': 'Ministry Of Beer',\n",
       "    'url': 'https://www.zomato.com/ncr/ministry-of-beer-connaught-place-new-delhi?utm_source=api_basic_user&utm_medium=api&utm_campaign=v2.1',\n",
       "    'location': {'address': 'M 44, Outer Circle, Connaught Place, New Delhi',\n",
       "     'locality': 'Connaught Place',\n",
       "     'city': 'New Delhi',\n",
       "     'city_id': 1,\n",
       "     'latitude': '28.6332862038',\n",
       "     'longitude': '77.2227874026',\n",
       "     'zipcode': '110001',\n",
       "     'country_id': 1,\n",
       "     'locality_verbose': 'Connaught Place, New Delhi'},\n",
       "    'switch_to_order_menu': 0,\n",
       "    'cuisines': 'Continental, Italian, Asian, Momos',\n",
       "    'average_cost_for_two': 1500,\n",
       "    'price_range': 3,\n",
       "    'currency': 'Rs.',\n",
       "    'offers': [],\n",
       "    'opentable_support': 0,\n",
       "    'is_zomato_book_res': 0,\n",
       "    'mezzo_provider': 'OTHER',\n",
       "    'is_book_form_web_view': 0,\n",
       "    'book_form_web_view_url': '',\n",
       "    'book_again_url': '',\n",
       "    'thumb': 'https://b.zmtcdn.com/data/pictures/7/18418277/844c3a3fbaaf85ae19831c502800ddbd.jpg?fit=around%7C200%3A200&crop=200%3A200%3B%2A%2C%2A',\n",
       "    'user_rating': {'aggregate_rating': '4.5',\n",
       "     'rating_text': 'Excellent',\n",
       "     'rating_color': '3F7E00',\n",
       "     'votes': '2891'},\n",
       "    'photos_url': 'https://www.zomato.com/ncr/ministry-of-beer-connaught-place-new-delhi/photos?utm_source=api_basic_user&utm_medium=api&utm_campaign=v2.1#tabtop',\n",
       "    'menu_url': 'https://www.zomato.com/ncr/ministry-of-beer-connaught-place-new-delhi/menu?utm_source=api_basic_user&utm_medium=api&utm_campaign=v2.1&openSwipeBox=menu&showMinimal=1#tabtop',\n",
       "    'featured_image': 'https://b.zmtcdn.com/data/pictures/7/18418277/844c3a3fbaaf85ae19831c502800ddbd.jpg',\n",
       "    'medio_provider': 1,\n",
       "    'has_online_delivery': 0,\n",
       "    'is_delivering_now': 0,\n",
       "    'include_bogo_offers': True,\n",
       "    'deeplink': 'zomato://restaurant/18418277',\n",
       "    'is_table_reservation_supported': 1,\n",
       "    'has_table_booking': 0,\n",
       "    'events_url': 'https://www.zomato.com/ncr/ministry-of-beer-connaught-place-new-delhi/events#tabtop?utm_source=api_basic_user&utm_medium=api&utm_campaign=v2.1'}},\n",
       "  {'restaurant': {'R': {'res_id': 18537536},\n",
       "    'apikey': '27299ca04f97031673347f76514c6678',\n",
       "    'id': '18537536',\n",
       "    'name': \"Chili's Grill & Bar\",\n",
       "    'url': 'https://www.zomato.com/ncr/chilis-grill-bar-connaught-place-new-delhi?utm_source=api_basic_user&utm_medium=api&utm_campaign=v2.1',\n",
       "    'location': {'address': 'M-9, Outer Circle, Connaught Place, New Delhi',\n",
       "     'locality': 'Connaught Place',\n",
       "     'city': 'New Delhi',\n",
       "     'city_id': 1,\n",
       "     'latitude': '28.6314964175',\n",
       "     'longitude': '77.2224004939',\n",
       "     'zipcode': '',\n",
       "     'country_id': 1,\n",
       "     'locality_verbose': 'Connaught Place, New Delhi'},\n",
       "    'switch_to_order_menu': 0,\n",
       "    'cuisines': 'Mexican, American, Italian',\n",
       "    'average_cost_for_two': 1500,\n",
       "    'price_range': 3,\n",
       "    'currency': 'Rs.',\n",
       "    'offers': [],\n",
       "    'opentable_support': 0,\n",
       "    'is_zomato_book_res': 0,\n",
       "    'mezzo_provider': 'OTHER',\n",
       "    'is_book_form_web_view': 0,\n",
       "    'book_form_web_view_url': '',\n",
       "    'book_again_url': '',\n",
       "    'thumb': 'https://b.zmtcdn.com/data/res_imagery/4751_CHAIN_a5bff706786fbed7313bd8b8b6271ea8.jpg?fit=around%7C200%3A200&crop=200%3A200%3B%2A%2C%2A',\n",
       "    'user_rating': {'aggregate_rating': '4.6',\n",
       "     'rating_text': 'Excellent',\n",
       "     'rating_color': '3F7E00',\n",
       "     'votes': '2542'},\n",
       "    'photos_url': 'https://www.zomato.com/ncr/chilis-grill-bar-connaught-place-new-delhi/photos?utm_source=api_basic_user&utm_medium=api&utm_campaign=v2.1#tabtop',\n",
       "    'menu_url': 'https://www.zomato.com/ncr/chilis-grill-bar-connaught-place-new-delhi/menu?utm_source=api_basic_user&utm_medium=api&utm_campaign=v2.1&openSwipeBox=menu&showMinimal=1#tabtop',\n",
       "    'featured_image': 'https://b.zmtcdn.com/data/res_imagery/4751_CHAIN_a5bff706786fbed7313bd8b8b6271ea8.jpg?output-format=webp',\n",
       "    'has_online_delivery': 1,\n",
       "    'is_delivering_now': 0,\n",
       "    'include_bogo_offers': True,\n",
       "    'deeplink': 'zomato://restaurant/18537536',\n",
       "    'is_table_reservation_supported': 0,\n",
       "    'has_table_booking': 0,\n",
       "    'events_url': 'https://www.zomato.com/ncr/chilis-grill-bar-connaught-place-new-delhi/events#tabtop?utm_source=api_basic_user&utm_medium=api&utm_campaign=v2.1'}},\n",
       "  {'restaurant': {'R': {'res_id': 1127},\n",
       "    'apikey': '27299ca04f97031673347f76514c6678',\n",
       "    'id': '1127',\n",
       "    'name': 'Castle 9',\n",
       "    'url': 'https://www.zomato.com/ncr/castle-9-connaught-place-new-delhi?utm_source=api_basic_user&utm_medium=api&utm_campaign=v2.1',\n",
       "    'location': {'address': 'B 45-47, Near PVR Plaza, Connaught Place, New Delhi',\n",
       "     'locality': 'Connaught Place',\n",
       "     'city': 'New Delhi',\n",
       "     'city_id': 1,\n",
       "     'latitude': '28.6348999870',\n",
       "     'longitude': '77.2194490582',\n",
       "     'zipcode': '110001',\n",
       "     'country_id': 1,\n",
       "     'locality_verbose': 'Connaught Place, New Delhi'},\n",
       "    'switch_to_order_menu': 0,\n",
       "    'cuisines': 'Finger Food, Continental, North Indian, Chinese',\n",
       "    'average_cost_for_two': 1350,\n",
       "    'price_range': 3,\n",
       "    'currency': 'Rs.',\n",
       "    'offers': [],\n",
       "    'opentable_support': 0,\n",
       "    'is_zomato_book_res': 0,\n",
       "    'mezzo_provider': 'OTHER',\n",
       "    'is_book_form_web_view': 0,\n",
       "    'book_form_web_view_url': '',\n",
       "    'book_again_url': '',\n",
       "    'thumb': 'https://b.zmtcdn.com/data/res_imagery/1127_RESTAURANT_9aa2ac5f5196adab74621fe908bdda8b.jpg?fit=around%7C200%3A200&crop=200%3A200%3B%2A%2C%2A',\n",
       "    'user_rating': {'aggregate_rating': '3.9',\n",
       "     'rating_text': 'Good',\n",
       "     'rating_color': '9ACD32',\n",
       "     'votes': '1642'},\n",
       "    'photos_url': 'https://www.zomato.com/ncr/castle-9-connaught-place-new-delhi/photos?utm_source=api_basic_user&utm_medium=api&utm_campaign=v2.1#tabtop',\n",
       "    'menu_url': 'https://www.zomato.com/ncr/castle-9-connaught-place-new-delhi/menu?utm_source=api_basic_user&utm_medium=api&utm_campaign=v2.1&openSwipeBox=menu&showMinimal=1#tabtop',\n",
       "    'featured_image': 'https://b.zmtcdn.com/data/res_imagery/1127_RESTAURANT_9aa2ac5f5196adab74621fe908bdda8b.jpg',\n",
       "    'has_online_delivery': 1,\n",
       "    'is_delivering_now': 0,\n",
       "    'include_bogo_offers': True,\n",
       "    'deeplink': 'zomato://restaurant/1127',\n",
       "    'is_table_reservation_supported': 0,\n",
       "    'has_table_booking': 0,\n",
       "    'events_url': 'https://www.zomato.com/ncr/castle-9-connaught-place-new-delhi/events#tabtop?utm_source=api_basic_user&utm_medium=api&utm_campaign=v2.1'}},\n",
       "  {'restaurant': {'R': {'res_id': 18246991},\n",
       "    'apikey': '27299ca04f97031673347f76514c6678',\n",
       "    'id': '18246991',\n",
       "    'name': 'Odeon Social',\n",
       "    'url': 'https://www.zomato.com/OdeonSocial?utm_source=api_basic_user&utm_medium=api&utm_campaign=v2.1',\n",
       "    'location': {'address': '23, 1st Floor, Odeon Building, Radial 5, D Block, Connaught Place, New Delhi',\n",
       "     'locality': 'Connaught Place',\n",
       "     'city': 'New Delhi',\n",
       "     'city_id': 1,\n",
       "     'latitude': '28.6343114475',\n",
       "     'longitude': '77.2207928449',\n",
       "     'zipcode': '',\n",
       "     'country_id': 1,\n",
       "     'locality_verbose': 'Connaught Place, New Delhi'},\n",
       "    'switch_to_order_menu': 0,\n",
       "    'cuisines': 'Continental, American, Asian, North Indian, Momos, Beverages',\n",
       "    'average_cost_for_two': 1300,\n",
       "    'price_range': 3,\n",
       "    'currency': 'Rs.',\n",
       "    'offers': [],\n",
       "    'opentable_support': 0,\n",
       "    'is_zomato_book_res': 0,\n",
       "    'mezzo_provider': 'OTHER',\n",
       "    'is_book_form_web_view': 0,\n",
       "    'book_form_web_view_url': '',\n",
       "    'book_again_url': '',\n",
       "    'thumb': 'https://b.zmtcdn.com/data/pictures/1/18246991/6377f3a6f1248be60d765a81018a547c.jpg?fit=around%7C200%3A200&crop=200%3A200%3B%2A%2C%2A',\n",
       "    'user_rating': {'aggregate_rating': '4.4',\n",
       "     'rating_text': 'Very Good',\n",
       "     'rating_color': '5BA829',\n",
       "     'votes': '5957'},\n",
       "    'photos_url': 'https://www.zomato.com/OdeonSocial/photos?utm_source=api_basic_user&utm_medium=api&utm_campaign=v2.1#tabtop',\n",
       "    'menu_url': 'https://www.zomato.com/OdeonSocial/menu?utm_source=api_basic_user&utm_medium=api&utm_campaign=v2.1&openSwipeBox=menu&showMinimal=1#tabtop',\n",
       "    'featured_image': 'https://b.zmtcdn.com/data/pictures/1/18246991/6377f3a6f1248be60d765a81018a547c.jpg?output-format=webp',\n",
       "    'has_online_delivery': 1,\n",
       "    'is_delivering_now': 0,\n",
       "    'include_bogo_offers': True,\n",
       "    'deeplink': 'zomato://restaurant/18246991',\n",
       "    'is_table_reservation_supported': 0,\n",
       "    'has_table_booking': 0,\n",
       "    'events_url': 'https://www.zomato.com/OdeonSocial/events#tabtop?utm_source=api_basic_user&utm_medium=api&utm_campaign=v2.1'}},\n",
       "  {'restaurant': {'R': {'res_id': 18238278},\n",
       "    'apikey': '27299ca04f97031673347f76514c6678',\n",
       "    'id': '18238278',\n",
       "    'name': 'Tamasha',\n",
       "    'url': 'https://www.zomato.com/ncr/tamasha-connaught-place-new-delhi?utm_source=api_basic_user&utm_medium=api&utm_campaign=v2.1',\n",
       "    'location': {'address': '28, Block A, Kasturba Gandhi Marg, Connaught Place, New Delhi',\n",
       "     'locality': 'Connaught Place',\n",
       "     'city': 'New Delhi',\n",
       "     'city_id': 1,\n",
       "     'latitude': '28.6296624581',\n",
       "     'longitude': '77.2218600288',\n",
       "     'zipcode': '110001',\n",
       "     'country_id': 1,\n",
       "     'locality_verbose': 'Connaught Place, New Delhi'},\n",
       "    'switch_to_order_menu': 0,\n",
       "    'cuisines': 'Finger Food, North Indian, Continental, Italian',\n",
       "    'average_cost_for_two': 1600,\n",
       "    'price_range': 3,\n",
       "    'currency': 'Rs.',\n",
       "    'offers': [],\n",
       "    'opentable_support': 0,\n",
       "    'is_zomato_book_res': 0,\n",
       "    'mezzo_provider': 'OTHER',\n",
       "    'is_book_form_web_view': 0,\n",
       "    'book_form_web_view_url': '',\n",
       "    'book_again_url': '',\n",
       "    'thumb': 'https://b.zmtcdn.com/data/pictures/8/18238278/39d09a5c0215d8b12ae4742efe564a62.png?fit=around%7C200%3A200&crop=200%3A200%3B%2A%2C%2A',\n",
       "    'user_rating': {'aggregate_rating': '4.3',\n",
       "     'rating_text': 'Very Good',\n",
       "     'rating_color': '5BA829',\n",
       "     'votes': '8270'},\n",
       "    'photos_url': 'https://www.zomato.com/ncr/tamasha-connaught-place-new-delhi/photos?utm_source=api_basic_user&utm_medium=api&utm_campaign=v2.1#tabtop',\n",
       "    'menu_url': 'https://www.zomato.com/ncr/tamasha-connaught-place-new-delhi/menu?utm_source=api_basic_user&utm_medium=api&utm_campaign=v2.1&openSwipeBox=menu&showMinimal=1#tabtop',\n",
       "    'featured_image': 'https://b.zmtcdn.com/data/pictures/8/18238278/39d09a5c0215d8b12ae4742efe564a62.png?output-format=webp',\n",
       "    'has_online_delivery': 0,\n",
       "    'is_delivering_now': 0,\n",
       "    'include_bogo_offers': True,\n",
       "    'deeplink': 'zomato://restaurant/18238278',\n",
       "    'is_table_reservation_supported': 0,\n",
       "    'has_table_booking': 0,\n",
       "    'events_url': 'https://www.zomato.com/ncr/tamasha-connaught-place-new-delhi/events#tabtop?utm_source=api_basic_user&utm_medium=api&utm_campaign=v2.1'}},\n",
       "  {'restaurant': {'R': {'res_id': 306497},\n",
       "    'apikey': '27299ca04f97031673347f76514c6678',\n",
       "    'id': '306497',\n",
       "    'name': 'Punjabi By Nature',\n",
       "    'url': 'https://www.zomato.com/ncr/punjabi-by-nature-connaught-place-new-delhi?utm_source=api_basic_user&utm_medium=api&utm_campaign=v2.1',\n",
       "    'location': {'address': '30-B, F Block, Connaught Place, New Delhi',\n",
       "     'locality': 'Connaught Place',\n",
       "     'city': 'New Delhi',\n",
       "     'city_id': 1,\n",
       "     'latitude': '28.6309543552',\n",
       "     'longitude': '77.2196408361',\n",
       "     'zipcode': '',\n",
       "     'country_id': 1,\n",
       "     'locality_verbose': 'Connaught Place, New Delhi'},\n",
       "    'switch_to_order_menu': 0,\n",
       "    'cuisines': 'North Indian, Mughlai, Salad, Kebab',\n",
       "    'average_cost_for_two': 1400,\n",
       "    'price_range': 3,\n",
       "    'currency': 'Rs.',\n",
       "    'offers': [],\n",
       "    'opentable_support': 0,\n",
       "    'is_zomato_book_res': 0,\n",
       "    'mezzo_provider': 'OTHER',\n",
       "    'is_book_form_web_view': 0,\n",
       "    'book_form_web_view_url': '',\n",
       "    'book_again_url': '',\n",
       "    'thumb': 'https://b.zmtcdn.com/data/pictures/chains/6/166/65429de43ce40a98e03e9df2bb2f577c.jpg?fit=around%7C200%3A200&crop=200%3A200%3B%2A%2C%2A',\n",
       "    'user_rating': {'aggregate_rating': '4.4',\n",
       "     'rating_text': 'Very Good',\n",
       "     'rating_color': '5BA829',\n",
       "     'votes': '2925'},\n",
       "    'photos_url': 'https://www.zomato.com/ncr/punjabi-by-nature-connaught-place-new-delhi/photos?utm_source=api_basic_user&utm_medium=api&utm_campaign=v2.1#tabtop',\n",
       "    'menu_url': 'https://www.zomato.com/ncr/punjabi-by-nature-connaught-place-new-delhi/menu?utm_source=api_basic_user&utm_medium=api&utm_campaign=v2.1&openSwipeBox=menu&showMinimal=1#tabtop',\n",
       "    'featured_image': 'https://b.zmtcdn.com/data/pictures/chains/6/166/65429de43ce40a98e03e9df2bb2f577c.jpg',\n",
       "    'medio_provider': 1,\n",
       "    'has_online_delivery': 1,\n",
       "    'is_delivering_now': 0,\n",
       "    'include_bogo_offers': True,\n",
       "    'deeplink': 'zomato://restaurant/306497',\n",
       "    'is_table_reservation_supported': 1,\n",
       "    'has_table_booking': 0,\n",
       "    'events_url': 'https://www.zomato.com/ncr/punjabi-by-nature-connaught-place-new-delhi/events#tabtop?utm_source=api_basic_user&utm_medium=api&utm_campaign=v2.1'}}]}"
      ]
     },
     "execution_count": 92,
     "metadata": {},
     "output_type": "execute_result"
    }
   ],
   "source": [
    "data"
   ]
  },
  {
   "cell_type": "markdown",
   "metadata": {},
   "source": [
    "### List of restaurants in Connaught Place"
   ]
  },
  {
   "cell_type": "code",
   "execution_count": 93,
   "metadata": {},
   "outputs": [
    {
     "name": "stdout",
     "output_type": "stream",
     "text": [
      "**** Restaurant **** Cuisine\n",
      "**** Ardor 2.1 **** North Indian, Chinese, Continental, Italian\n",
      "**** Detroit **** Bar Food, Mexican, Italian\n",
      "**** Local **** North Indian, Continental, Momos\n",
      "**** Ministry Of Beer **** Continental, Italian, Asian, Momos\n",
      "**** Chili's Grill & Bar **** Mexican, American, Italian\n",
      "**** Castle 9 **** Finger Food, Continental, North Indian, Chinese\n",
      "**** Odeon Social **** Continental, American, Asian, North Indian, Momos, Beverages\n",
      "**** Tamasha **** Finger Food, North Indian, Continental, Italian\n",
      "**** Punjabi By Nature **** North Indian, Mughlai, Salad, Kebab\n"
     ]
    }
   ],
   "source": [
    "print(\"****\",\"Restaurant\",\"****\",\"Cuisine\")\n",
    "for i in data['nearby_restaurants']:\n",
    "    print(\"****\",i['restaurant']['name'],\"****\",end=\" \")\n",
    "    print(i['restaurant']['cuisines'])\n",
    "        "
   ]
  },
  {
   "cell_type": "markdown",
   "metadata": {},
   "source": [
    "### List of restaurants in Connaught Place that serve Mexican"
   ]
  },
  {
   "cell_type": "code",
   "execution_count": 94,
   "metadata": {},
   "outputs": [
    {
     "name": "stdout",
     "output_type": "stream",
     "text": [
      "Bar Food, Mexican, Italian Detroit\n",
      "Mexican, American, Italian Chili's Grill & Bar\n"
     ]
    }
   ],
   "source": [
    "for i in data['nearby_restaurants']:\n",
    "    if 'Mexican' in i['restaurant']['cuisines']:\n",
    "        print(i['restaurant']['cuisines'],end=\" \")\n",
    "        print(i['restaurant']['name'])"
   ]
  },
  {
   "cell_type": "code",
   "execution_count": null,
   "metadata": {},
   "outputs": [],
   "source": []
  },
  {
   "cell_type": "code",
   "execution_count": null,
   "metadata": {},
   "outputs": [],
   "source": []
  },
  {
   "cell_type": "code",
   "execution_count": null,
   "metadata": {},
   "outputs": [],
   "source": []
  },
  {
   "cell_type": "code",
   "execution_count": 95,
   "metadata": {},
   "outputs": [],
   "source": [
    "response=requests.get('https://developers.zomato.com/api/v2.1/categories',headers=header)"
   ]
  },
  {
   "cell_type": "code",
   "execution_count": 97,
   "metadata": {},
   "outputs": [
    {
     "data": {
      "text/plain": [
       "{'categories': [{'categories': {'id': 1, 'name': 'Delivery'}},\n",
       "  {'categories': {'id': 2, 'name': 'Dine-out'}},\n",
       "  {'categories': {'id': 3, 'name': 'Nightlife'}},\n",
       "  {'categories': {'id': 4, 'name': 'Catching-up'}},\n",
       "  {'categories': {'id': 5, 'name': 'Takeaway'}},\n",
       "  {'categories': {'id': 6, 'name': 'Cafes'}},\n",
       "  {'categories': {'id': 7, 'name': 'Daily Menus'}},\n",
       "  {'categories': {'id': 8, 'name': 'Breakfast'}},\n",
       "  {'categories': {'id': 9, 'name': 'Lunch'}},\n",
       "  {'categories': {'id': 10, 'name': 'Dinner'}},\n",
       "  {'categories': {'id': 11, 'name': 'Pubs & Bars'}},\n",
       "  {'categories': {'id': 13, 'name': 'Pocket Friendly Delivery'}},\n",
       "  {'categories': {'id': 14, 'name': 'Clubs & Lounges'}}]}"
      ]
     },
     "execution_count": 97,
     "metadata": {},
     "output_type": "execute_result"
    }
   ],
   "source": [
    "json.loads(response.content)"
   ]
  }
 ],
 "metadata": {
  "kernelspec": {
   "display_name": "Python 3",
   "language": "python",
   "name": "python3"
  },
  "language_info": {
   "codemirror_mode": {
    "name": "ipython",
    "version": 3
   },
   "file_extension": ".py",
   "mimetype": "text/x-python",
   "name": "python",
   "nbconvert_exporter": "python",
   "pygments_lexer": "ipython3",
   "version": "3.7.3"
  }
 },
 "nbformat": 4,
 "nbformat_minor": 2
}
